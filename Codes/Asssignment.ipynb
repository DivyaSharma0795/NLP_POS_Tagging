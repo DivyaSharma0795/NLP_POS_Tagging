{
 "cells": [
  {
   "cell_type": "code",
   "execution_count": 1,
   "metadata": {},
   "outputs": [
    {
     "data": {
      "text/plain": [
       "'Viterbi Algorithm for inferring the most likely sequence of states from an HMM.\\n\\nPatrick Wang, 2021\\n'"
      ]
     },
     "execution_count": 1,
     "metadata": {},
     "output_type": "execute_result"
    }
   ],
   "source": [
    "\"\"\"Viterbi Algorithm for inferring the most likely sequence of states from an HMM.\n",
    "\n",
    "Patrick Wang, 2021\n",
    "\"\"\""
   ]
  },
  {
   "cell_type": "code",
   "execution_count": null,
   "metadata": {},
   "outputs": [],
   "source": [
    "from typing import Sequence, Tuple, TypeVar\n",
    "import numpy as np"
   ]
  },
  {
   "cell_type": "code",
   "execution_count": null,
   "metadata": {},
   "outputs": [],
   "source": [
    "Q = TypeVar(\"Q\")\n",
    "V = TypeVar(\"V\")\n",
    "\n",
    "\n",
    "def viterbi(\n",
    "    obs: Sequence[int],\n",
    "    pi: np.ndarray[Tuple[V], np.dtype[np.float_]],\n",
    "    A: np.ndarray[Tuple[Q, Q], np.dtype[np.float_]],\n",
    "    B: np.ndarray[Tuple[Q, V], np.dtype[np.float_]],\n",
    ") -> tuple[list[int], float]:\n",
    "    \"\"\"Infer most likely state sequence using the Viterbi algorithm.\n",
    "\n",
    "    Args:\n",
    "        obs: An iterable of ints representing observations.\n",
    "        pi: A 1D numpy array of floats representing initial state probabilities.\n",
    "        A: A 2D numpy array of floats representing state transition probabilities.\n",
    "        B: A 2D numpy array of floats representing emission probabilities.\n",
    "\n",
    "    Returns:\n",
    "        A tuple of:\n",
    "        * A 1D numpy array of ints representing the most likely state sequence.\n",
    "        * A float representing the probability of the most likely state sequence.\n",
    "    \"\"\"\n",
    "    N = len(obs)\n",
    "    Q, V = B.shape  # num_states, num_observations\n",
    "\n",
    "    # d_{ti} = max prob of being in state i at step t\n",
    "    #   AKA viterbi\n",
    "    # \\psi_{ti} = most likely state preceeding state i at step t\n",
    "    #   AKA backpointer\n",
    "\n",
    "    # initialization\n",
    "    log_d = [np.log(pi) + np.log(B[:, obs[0]])]\n",
    "    log_psi = [np.zeros((Q,))]\n",
    "\n",
    "    # recursion\n",
    "    for z in obs[1:]:\n",
    "        log_da = np.expand_dims(log_d[-1], axis=1) + np.log(A)\n",
    "        log_d.append(np.max(log_da, axis=0) + np.log(B[:, z]))\n",
    "        log_psi.append(np.argmax(log_da, axis=0))\n",
    "\n",
    "    # termination\n",
    "    log_ps = np.max(log_d[-1])\n",
    "    qs = [-1] * N\n",
    "    qs[-1] = int(np.argmax(log_d[-1]))\n",
    "    for i in range(N - 2, -1, -1):\n",
    "        qs[i] = log_psi[i + 1][qs[i + 1]]\n",
    "\n",
    "    return qs, np.exp(log_ps)"
   ]
  }
 ],
 "metadata": {
  "kernelspec": {
   "display_name": "base",
   "language": "python",
   "name": "python3"
  },
  "language_info": {
   "codemirror_mode": {
    "name": "ipython",
    "version": 3
   },
   "file_extension": ".py",
   "mimetype": "text/x-python",
   "name": "python",
   "nbconvert_exporter": "python",
   "pygments_lexer": "ipython3",
   "version": "3.11.5"
  }
 },
 "nbformat": 4,
 "nbformat_minor": 2
}
